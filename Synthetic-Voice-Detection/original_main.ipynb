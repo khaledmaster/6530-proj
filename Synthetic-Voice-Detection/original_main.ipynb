{
 "cells": [
  {
   "cell_type": "code",
   "execution_count": 1,
   "metadata": {},
   "outputs": [],
   "source": [
    "from preprocess import *\n",
    "from swishnet import *\n",
    "import matplotlib.pyplot as plt\n",
    "import numpy as np\n",
    "import pandas as pd\n",
    "import tensorflow as tf\n",
    "import os\n",
    "from tqdm import tqdm\n",
    "from sklearn.utils import shuffle\n",
    "from sklearn.preprocessing import LabelEncoder\n",
    "from tensorflow.keras.utils import to_categorical\n",
    "from tensorflow.keras import layers\n",
    "from sklearn.utils import shuffle\n",
    "from tensorflow.keras.models import Sequential\n",
    "from tensorflow.keras.layers import Input\n",
    "from tensorflow.keras.optimizers import Adam\n",
    "from tensorflow.keras import models\n",
    "from tensorflow.keras import layers\n",
    "from sklearn.model_selection import train_test_split \n",
    "from datetime import datetime"
   ]
  },
  {
   "cell_type": "code",
   "execution_count": 2,
   "metadata": {},
   "outputs": [
    {
     "data": {
      "text/html": [
       "<div>\n",
       "<style scoped>\n",
       "    .dataframe tbody tr th:only-of-type {\n",
       "        vertical-align: middle;\n",
       "    }\n",
       "\n",
       "    .dataframe tbody tr th {\n",
       "        vertical-align: top;\n",
       "    }\n",
       "\n",
       "    .dataframe thead th {\n",
       "        text-align: right;\n",
       "    }\n",
       "</style>\n",
       "<table border=\"1\" class=\"dataframe\">\n",
       "  <thead>\n",
       "    <tr style=\"text-align: right;\">\n",
       "      <th></th>\n",
       "      <th>feature</th>\n",
       "      <th>class_label</th>\n",
       "    </tr>\n",
       "  </thead>\n",
       "  <tbody>\n",
       "    <tr>\n",
       "      <th>3628</th>\n",
       "      <td>[[-315.69653, -319.03522, -318.50815, -253.510...</td>\n",
       "      <td>1</td>\n",
       "    </tr>\n",
       "    <tr>\n",
       "      <th>2776</th>\n",
       "      <td>[[-158.27007, -119.907684, -102.25988, -104.65...</td>\n",
       "      <td>1</td>\n",
       "    </tr>\n",
       "    <tr>\n",
       "      <th>6332</th>\n",
       "      <td>[[-112.1185, -98.449234, -91.65438, -83.300896...</td>\n",
       "      <td>0</td>\n",
       "    </tr>\n",
       "    <tr>\n",
       "      <th>22</th>\n",
       "      <td>[[-221.18001, -246.14166, -298.0752, -379.7066...</td>\n",
       "      <td>0</td>\n",
       "    </tr>\n",
       "    <tr>\n",
       "      <th>5029</th>\n",
       "      <td>[[-397.11258, -398.11328, -405.4104, -407.1128...</td>\n",
       "      <td>1</td>\n",
       "    </tr>\n",
       "  </tbody>\n",
       "</table>\n",
       "</div>"
      ],
      "text/plain": [
       "                                                feature  class_label\n",
       "3628  [[-315.69653, -319.03522, -318.50815, -253.510...            1\n",
       "2776  [[-158.27007, -119.907684, -102.25988, -104.65...            1\n",
       "6332  [[-112.1185, -98.449234, -91.65438, -83.300896...            0\n",
       "22    [[-221.18001, -246.14166, -298.0752, -379.7066...            0\n",
       "5029  [[-397.11258, -398.11328, -405.4104, -407.1128...            1"
      ]
     },
     "execution_count": 2,
     "metadata": {},
     "output_type": "execute_result"
    }
   ],
   "source": [
    "train_dataset = pd.read_hdf('pre-processed-dataset/train_cnn.h5',key='traindf')\n",
    "train_dataset.head()"
   ]
  },
  {
   "cell_type": "code",
   "execution_count": 3,
   "metadata": {},
   "outputs": [
    {
     "data": {
      "text/html": [
       "<div>\n",
       "<style scoped>\n",
       "    .dataframe tbody tr th:only-of-type {\n",
       "        vertical-align: middle;\n",
       "    }\n",
       "\n",
       "    .dataframe tbody tr th {\n",
       "        vertical-align: top;\n",
       "    }\n",
       "\n",
       "    .dataframe thead th {\n",
       "        text-align: right;\n",
       "    }\n",
       "</style>\n",
       "<table border=\"1\" class=\"dataframe\">\n",
       "  <thead>\n",
       "    <tr style=\"text-align: right;\">\n",
       "      <th></th>\n",
       "      <th>feature</th>\n",
       "      <th>class_label</th>\n",
       "    </tr>\n",
       "  </thead>\n",
       "  <tbody>\n",
       "    <tr>\n",
       "      <th>275</th>\n",
       "      <td>[[-338.5306, -344.10248, -366.1368, -372.44083...</td>\n",
       "      <td>1</td>\n",
       "    </tr>\n",
       "    <tr>\n",
       "      <th>1095</th>\n",
       "      <td>[[-147.2523, -144.39369, -159.58073, -195.2328...</td>\n",
       "      <td>1</td>\n",
       "    </tr>\n",
       "    <tr>\n",
       "      <th>1262</th>\n",
       "      <td>[[-330.6287, -309.19095, -259.31378, -107.7429...</td>\n",
       "      <td>1</td>\n",
       "    </tr>\n",
       "    <tr>\n",
       "      <th>746</th>\n",
       "      <td>[[-227.75717, -188.66824, -179.99754, -188.734...</td>\n",
       "      <td>0</td>\n",
       "    </tr>\n",
       "    <tr>\n",
       "      <th>254</th>\n",
       "      <td>[[-96.9004, -100.59164, -106.09869, -101.88948...</td>\n",
       "      <td>0</td>\n",
       "    </tr>\n",
       "  </tbody>\n",
       "</table>\n",
       "</div>"
      ],
      "text/plain": [
       "                                                feature  class_label\n",
       "275   [[-338.5306, -344.10248, -366.1368, -372.44083...            1\n",
       "1095  [[-147.2523, -144.39369, -159.58073, -195.2328...            1\n",
       "1262  [[-330.6287, -309.19095, -259.31378, -107.7429...            1\n",
       "746   [[-227.75717, -188.66824, -179.99754, -188.734...            0\n",
       "254   [[-96.9004, -100.59164, -106.09869, -101.88948...            0"
      ]
     },
     "execution_count": 3,
     "metadata": {},
     "output_type": "execute_result"
    }
   ],
   "source": [
    "validation_dataset = pd.read_hdf('pre-processed-dataset/validation_cnn',key='valdf')\n",
    "validation_dataset.head()"
   ]
  },
  {
   "cell_type": "code",
   "execution_count": 4,
   "metadata": {},
   "outputs": [],
   "source": [
    "#Further Preprocessing\n",
    "X_train = np.array(train_dataset.feature.tolist())\n",
    "y_train = np.array(train_dataset.class_label.tolist())\n",
    "X_validation = np.array(validation_dataset.feature.tolist())\n",
    "y_validation = np.array(validation_dataset.class_label.tolist())\n",
    "\n",
    "# Encode the classification labels\n",
    "le = LabelEncoder()\n",
    "yy_train = to_categorical(le.fit_transform(y_train))\n",
    "yy_validation = to_categorical(le.fit_transform(y_validation))"
   ]
  },
  {
   "cell_type": "code",
   "execution_count": 5,
   "metadata": {},
   "outputs": [],
   "source": [
    "#Data reshaping for CNN Architecture\n",
    "num_rows = 40 \n",
    "num_columns = 87 \n",
    "X_train = X_train.reshape(X_train.shape[0], num_rows, num_columns) \n",
    "X_validation = X_validation.reshape(X_validation.shape[0], num_rows, num_columns)\n",
    "num_labels = yy_train.shape[1]"
   ]
  },
  {
   "cell_type": "code",
   "execution_count": 6,
   "metadata": {},
   "outputs": [
    {
     "name": "stdout",
     "output_type": "stream",
     "text": [
      "Model: \"functional_1\"\n",
      "__________________________________________________________________________________________________\n",
      "Layer (type)                    Output Shape         Param #     Connected to                     \n",
      "==================================================================================================\n",
      "input_1 (InputLayer)            [(None, 40, 87)]     0                                            \n",
      "__________________________________________________________________________________________________\n",
      "conv1d (Conv1D)                 (None, 40, 16)       4192        input_1[0][0]                    \n",
      "__________________________________________________________________________________________________\n",
      "conv1d_1 (Conv1D)               (None, 40, 16)       4192        input_1[0][0]                    \n",
      "__________________________________________________________________________________________________\n",
      "conv1d_2 (Conv1D)               (None, 40, 16)       8368        input_1[0][0]                    \n",
      "__________________________________________________________________________________________________\n",
      "conv1d_3 (Conv1D)               (None, 40, 16)       8368        input_1[0][0]                    \n",
      "__________________________________________________________________________________________________\n",
      "activation (Activation)         (None, 40, 16)       0           conv1d[0][0]                     \n",
      "__________________________________________________________________________________________________\n",
      "activation_1 (Activation)       (None, 40, 16)       0           conv1d_1[0][0]                   \n",
      "__________________________________________________________________________________________________\n",
      "activation_2 (Activation)       (None, 40, 16)       0           conv1d_2[0][0]                   \n",
      "__________________________________________________________________________________________________\n",
      "activation_3 (Activation)       (None, 40, 16)       0           conv1d_3[0][0]                   \n",
      "__________________________________________________________________________________________________\n",
      "multiply (Multiply)             (None, 40, 16)       0           activation[0][0]                 \n",
      "                                                                 activation_1[0][0]               \n",
      "__________________________________________________________________________________________________\n",
      "multiply_1 (Multiply)           (None, 40, 16)       0           activation_2[0][0]               \n",
      "                                                                 activation_3[0][0]               \n",
      "__________________________________________________________________________________________________\n",
      "concatenate (Concatenate)       (None, 40, 32)       0           multiply[0][0]                   \n",
      "                                                                 multiply_1[0][0]                 \n",
      "__________________________________________________________________________________________________\n",
      "conv1d_4 (Conv1D)               (None, 40, 8)        776         concatenate[0][0]                \n",
      "__________________________________________________________________________________________________\n",
      "conv1d_5 (Conv1D)               (None, 40, 8)        776         concatenate[0][0]                \n",
      "__________________________________________________________________________________________________\n",
      "conv1d_6 (Conv1D)               (None, 40, 8)        1544        concatenate[0][0]                \n",
      "__________________________________________________________________________________________________\n",
      "conv1d_7 (Conv1D)               (None, 40, 8)        1544        concatenate[0][0]                \n",
      "__________________________________________________________________________________________________\n",
      "activation_4 (Activation)       (None, 40, 8)        0           conv1d_4[0][0]                   \n",
      "__________________________________________________________________________________________________\n",
      "activation_5 (Activation)       (None, 40, 8)        0           conv1d_5[0][0]                   \n",
      "__________________________________________________________________________________________________\n",
      "activation_6 (Activation)       (None, 40, 8)        0           conv1d_6[0][0]                   \n",
      "__________________________________________________________________________________________________\n",
      "activation_7 (Activation)       (None, 40, 8)        0           conv1d_7[0][0]                   \n",
      "__________________________________________________________________________________________________\n",
      "multiply_2 (Multiply)           (None, 40, 8)        0           activation_4[0][0]               \n",
      "                                                                 activation_5[0][0]               \n",
      "__________________________________________________________________________________________________\n",
      "multiply_3 (Multiply)           (None, 40, 8)        0           activation_6[0][0]               \n",
      "                                                                 activation_7[0][0]               \n",
      "__________________________________________________________________________________________________\n",
      "concatenate_1 (Concatenate)     (None, 40, 16)       0           multiply_2[0][0]                 \n",
      "                                                                 multiply_3[0][0]                 \n",
      "__________________________________________________________________________________________________\n",
      "conv1d_8 (Conv1D)               (None, 40, 8)        392         concatenate_1[0][0]              \n",
      "__________________________________________________________________________________________________\n",
      "conv1d_9 (Conv1D)               (None, 40, 8)        392         concatenate_1[0][0]              \n",
      "__________________________________________________________________________________________________\n",
      "conv1d_10 (Conv1D)              (None, 40, 8)        776         concatenate_1[0][0]              \n",
      "__________________________________________________________________________________________________\n",
      "conv1d_11 (Conv1D)              (None, 40, 8)        776         concatenate_1[0][0]              \n",
      "__________________________________________________________________________________________________\n",
      "activation_8 (Activation)       (None, 40, 8)        0           conv1d_8[0][0]                   \n",
      "__________________________________________________________________________________________________\n",
      "activation_9 (Activation)       (None, 40, 8)        0           conv1d_9[0][0]                   \n",
      "__________________________________________________________________________________________________\n",
      "activation_10 (Activation)      (None, 40, 8)        0           conv1d_10[0][0]                  \n",
      "__________________________________________________________________________________________________\n",
      "activation_11 (Activation)      (None, 40, 8)        0           conv1d_11[0][0]                  \n",
      "__________________________________________________________________________________________________\n",
      "multiply_4 (Multiply)           (None, 40, 8)        0           activation_8[0][0]               \n",
      "                                                                 activation_9[0][0]               \n",
      "__________________________________________________________________________________________________\n",
      "multiply_5 (Multiply)           (None, 40, 8)        0           activation_10[0][0]              \n",
      "                                                                 activation_11[0][0]              \n",
      "__________________________________________________________________________________________________\n",
      "concatenate_2 (Concatenate)     (None, 40, 16)       0           multiply_4[0][0]                 \n",
      "                                                                 multiply_5[0][0]                 \n",
      "__________________________________________________________________________________________________\n",
      "add (Add)                       (None, 40, 16)       0           concatenate_1[0][0]              \n",
      "                                                                 concatenate_2[0][0]              \n",
      "__________________________________________________________________________________________________\n",
      "conv1d_12 (Conv1D)              (None, 40, 16)       784         add[0][0]                        \n",
      "__________________________________________________________________________________________________\n",
      "conv1d_13 (Conv1D)              (None, 40, 16)       784         add[0][0]                        \n",
      "__________________________________________________________________________________________________\n",
      "activation_12 (Activation)      (None, 40, 16)       0           conv1d_12[0][0]                  \n",
      "__________________________________________________________________________________________________\n",
      "activation_13 (Activation)      (None, 40, 16)       0           conv1d_13[0][0]                  \n",
      "__________________________________________________________________________________________________\n",
      "multiply_6 (Multiply)           (None, 40, 16)       0           activation_12[0][0]              \n",
      "                                                                 activation_13[0][0]              \n",
      "__________________________________________________________________________________________________\n",
      "add_1 (Add)                     (None, 40, 16)       0           add[0][0]                        \n",
      "                                                                 multiply_6[0][0]                 \n",
      "__________________________________________________________________________________________________\n",
      "conv1d_14 (Conv1D)              (None, 40, 16)       784         add_1[0][0]                      \n",
      "__________________________________________________________________________________________________\n",
      "conv1d_15 (Conv1D)              (None, 40, 16)       784         add_1[0][0]                      \n",
      "__________________________________________________________________________________________________\n",
      "activation_14 (Activation)      (None, 40, 16)       0           conv1d_14[0][0]                  \n",
      "__________________________________________________________________________________________________\n",
      "activation_15 (Activation)      (None, 40, 16)       0           conv1d_15[0][0]                  \n",
      "__________________________________________________________________________________________________\n",
      "multiply_7 (Multiply)           (None, 40, 16)       0           activation_14[0][0]              \n",
      "                                                                 activation_15[0][0]              \n",
      "__________________________________________________________________________________________________\n",
      "add_2 (Add)                     (None, 40, 16)       0           add_1[0][0]                      \n",
      "                                                                 multiply_7[0][0]                 \n",
      "__________________________________________________________________________________________________\n",
      "conv1d_16 (Conv1D)              (None, 40, 16)       784         add_2[0][0]                      \n",
      "__________________________________________________________________________________________________\n",
      "conv1d_17 (Conv1D)              (None, 40, 16)       784         add_2[0][0]                      \n",
      "__________________________________________________________________________________________________\n",
      "activation_16 (Activation)      (None, 40, 16)       0           conv1d_16[0][0]                  \n",
      "__________________________________________________________________________________________________\n",
      "activation_17 (Activation)      (None, 40, 16)       0           conv1d_17[0][0]                  \n",
      "__________________________________________________________________________________________________\n",
      "multiply_8 (Multiply)           (None, 40, 16)       0           activation_16[0][0]              \n",
      "                                                                 activation_17[0][0]              \n",
      "__________________________________________________________________________________________________\n",
      "add_3 (Add)                     (None, 40, 16)       0           add_2[0][0]                      \n",
      "                                                                 multiply_8[0][0]                 \n",
      "__________________________________________________________________________________________________\n",
      "conv1d_18 (Conv1D)              (None, 40, 16)       784         add_3[0][0]                      \n",
      "__________________________________________________________________________________________________\n",
      "conv1d_19 (Conv1D)              (None, 40, 16)       784         add_3[0][0]                      \n",
      "__________________________________________________________________________________________________\n",
      "conv1d_20 (Conv1D)              (None, 40, 32)       1568        add_3[0][0]                      \n",
      "__________________________________________________________________________________________________\n",
      "conv1d_21 (Conv1D)              (None, 40, 32)       1568        add_3[0][0]                      \n",
      "__________________________________________________________________________________________________\n",
      "activation_18 (Activation)      (None, 40, 16)       0           conv1d_18[0][0]                  \n",
      "__________________________________________________________________________________________________\n",
      "activation_19 (Activation)      (None, 40, 16)       0           conv1d_19[0][0]                  \n",
      "__________________________________________________________________________________________________\n",
      "activation_20 (Activation)      (None, 40, 32)       0           conv1d_20[0][0]                  \n",
      "__________________________________________________________________________________________________\n",
      "activation_21 (Activation)      (None, 40, 32)       0           conv1d_21[0][0]                  \n",
      "__________________________________________________________________________________________________\n",
      "multiply_9 (Multiply)           (None, 40, 16)       0           activation_18[0][0]              \n",
      "                                                                 activation_19[0][0]              \n",
      "__________________________________________________________________________________________________\n",
      "multiply_10 (Multiply)          (None, 40, 32)       0           activation_20[0][0]              \n",
      "                                                                 activation_21[0][0]              \n",
      "__________________________________________________________________________________________________\n",
      "concatenate_3 (Concatenate)     (None, 40, 80)       0           multiply_7[0][0]                 \n",
      "                                                                 multiply_8[0][0]                 \n",
      "                                                                 multiply_9[0][0]                 \n",
      "                                                                 multiply_10[0][0]                \n",
      "__________________________________________________________________________________________________\n",
      "conv1d_22 (Conv1D)              (None, 40, 2)        162         concatenate_3[0][0]              \n",
      "__________________________________________________________________________________________________\n",
      "global_average_pooling1d (Globa (None, 2)            0           conv1d_22[0][0]                  \n",
      "__________________________________________________________________________________________________\n",
      "activation_22 (Activation)      (None, 2)            0           global_average_pooling1d[0][0]   \n",
      "==================================================================================================\n",
      "Total params: 41,666\n",
      "Trainable params: 41,666\n",
      "Non-trainable params: 0\n",
      "__________________________________________________________________________________________________\n"
     ]
    }
   ],
   "source": [
    "model = SwishNet(input_shape=(40,87), classes=2,width_multiply=2) #SwishNet Wide\n",
    "# Compile the model\n",
    "model.compile(loss='binary_crossentropy', metrics=['accuracy'], optimizer='adam')\n",
    "# Display model architecture summary\n",
    "model.summary()"
   ]
  },
  {
   "cell_type": "code",
   "execution_count": 7,
   "metadata": {},
   "outputs": [
    {
     "name": "stdout",
     "output_type": "stream",
     "text": [
      "Epoch 1/15\n",
      "437/437 [==============================] - 10s 23ms/step - loss: 0.4738 - accuracy: 0.7542 - val_loss: 0.3657 - val_accuracy: 0.8362\n",
      "Epoch 2/15\n",
      "437/437 [==============================] - 10s 23ms/step - loss: 0.2792 - accuracy: 0.8806 - val_loss: 0.2529 - val_accuracy: 0.8928\n",
      "Epoch 3/15\n",
      "437/437 [==============================] - 10s 23ms/step - loss: 0.1943 - accuracy: 0.9222 - val_loss: 0.2068 - val_accuracy: 0.9144\n",
      "Epoch 4/15\n",
      "437/437 [==============================] - 9s 21ms/step - loss: 0.1440 - accuracy: 0.9459 - val_loss: 0.1809 - val_accuracy: 0.9303\n",
      "Epoch 5/15\n",
      "437/437 [==============================] - 10s 23ms/step - loss: 0.1185 - accuracy: 0.9549 - val_loss: 0.1819 - val_accuracy: 0.9299\n",
      "Epoch 6/15\n",
      "437/437 [==============================] - 10s 24ms/step - loss: 0.0966 - accuracy: 0.9636 - val_loss: 0.1185 - val_accuracy: 0.9522\n",
      "Epoch 7/15\n",
      "437/437 [==============================] - 11s 24ms/step - loss: 0.0813 - accuracy: 0.9713 - val_loss: 0.1354 - val_accuracy: 0.9540\n",
      "Epoch 8/15\n",
      "437/437 [==============================] - 11s 25ms/step - loss: 0.0667 - accuracy: 0.9746 - val_loss: 0.1263 - val_accuracy: 0.9558\n",
      "Epoch 9/15\n",
      "437/437 [==============================] - 10s 24ms/step - loss: 0.0633 - accuracy: 0.9768 - val_loss: 0.1284 - val_accuracy: 0.9547\n",
      "Epoch 10/15\n",
      "437/437 [==============================] - 11s 25ms/step - loss: 0.0578 - accuracy: 0.9774 - val_loss: 0.1101 - val_accuracy: 0.9639\n",
      "Epoch 11/15\n",
      "437/437 [==============================] - 11s 26ms/step - loss: 0.0501 - accuracy: 0.9814 - val_loss: 0.1126 - val_accuracy: 0.9614\n",
      "Epoch 12/15\n",
      "437/437 [==============================] - 11s 25ms/step - loss: 0.0444 - accuracy: 0.9843 - val_loss: 0.0916 - val_accuracy: 0.9660\n",
      "Epoch 13/15\n",
      "437/437 [==============================] - 10s 23ms/step - loss: 0.0425 - accuracy: 0.9845 - val_loss: 0.0971 - val_accuracy: 0.9653\n",
      "Epoch 14/15\n",
      "437/437 [==============================] - 10s 23ms/step - loss: 0.0351 - accuracy: 0.9877 - val_loss: 0.0941 - val_accuracy: 0.9724\n",
      "Epoch 15/15\n",
      "437/437 [==============================] - 10s 23ms/step - loss: 0.0397 - accuracy: 0.9856 - val_loss: 0.0859 - val_accuracy: 0.9699\n",
      "Training completed in time:  0:02:37.784984\n"
     ]
    }
   ],
   "source": [
    "num_epochs = 15\n",
    "num_batch_size = 32\n",
    "start = datetime.now()\n",
    "history = model.fit(X_train, yy_train, batch_size=num_batch_size, epochs=num_epochs, validation_data=(X_validation, yy_validation), verbose=1)\n",
    "duration = datetime.now() - start \n",
    "print(\"Training completed in time: \", duration)"
   ]
  },
  {
   "cell_type": "code",
   "execution_count": 8,
   "metadata": {},
   "outputs": [
    {
     "data": {
      "image/png": "[encoded data removed]",
      "text/plain": [
       "<Figure size 2160x576 with 2 Axes>"
      ]
     },
     "metadata": {},
     "output_type": "display_data"
    }
   ],
   "source": [
    "plt.style.use('dark_background')\n",
    "acc = history.history['accuracy']\n",
    "val_acc = history.history['val_accuracy']\n",
    "\n",
    "loss = history.history['loss']\n",
    "val_loss = history.history['val_loss']\n",
    "\n",
    "epochs_range = range(num_epochs)\n",
    "\n",
    "plt.figure(figsize=(30, 8))\n",
    "plt.subplot(1, 2, 1)\n",
    "plt.plot(epochs_range, acc, label='Training Accuracy')\n",
    "plt.plot(epochs_range, val_acc, label='Validation Accuracy')\n",
    "plt.grid()\n",
    "plt.legend(loc='lower right')\n",
    "plt.title('Training and Validation Accuracy')\n",
    "\n",
    "plt.subplot(1, 2, 2)\n",
    "plt.plot(epochs_range, loss, label='Training Loss')\n",
    "plt.plot(epochs_range, val_loss, label='Validation Loss')\n",
    "plt.grid()\n",
    "plt.legend(loc='upper right')\n",
    "plt.title('Training and Validation Loss')\n",
    "plt.show()"
   ]
  },
  {
   "cell_type": "code",
   "execution_count": 9,
   "metadata": {},
   "outputs": [
    {
     "name": "stdout",
     "output_type": "stream",
     "text": [
      "Training Accuracy: 99.25%\n",
      "Validation Accuracy: 96.99%\n"
     ]
    }
   ],
   "source": [
    "# Evaluating the model on the training and validation set\n",
    "score = model.evaluate(X_train, yy_train, verbose=0)\n",
    "print(\"Training Accuracy: {0:.2%}\".format(score[1]))\n",
    "\n",
    "score = model.evaluate(X_validation, yy_validation, verbose=0)\n",
    "print(\"Validation Accuracy: {0:.2%}\".format(score[1]))"
   ]
  },
  {
   "cell_type": "code",
   "execution_count": 11,
   "metadata": {},
   "outputs": [],
   "source": [
    "combined_test_dataset = pd.read_hdf('pre-processed-dataset/combined_cnn_test',key='testdf')"
   ]
  },
  {
   "cell_type": "code",
   "execution_count": 12,
   "metadata": {},
   "outputs": [],
   "source": [
    "#Testing on the test dataset (unseen data)\n",
    "X_test = np.array(combined_test_dataset.feature.tolist())\n",
    "y_test = np.array(combined_test_dataset.class_label.tolist())\n",
    "\n",
    "# Encode the classification labels\n",
    "le = LabelEncoder()\n",
    "yy_test = to_categorical(le.fit_transform(y_test))"
   ]
  },
  {
   "cell_type": "code",
   "execution_count": 13,
   "metadata": {},
   "outputs": [],
   "source": [
    "X_test = X_test.reshape(X_test.shape[0], num_rows, num_columns) "
   ]
  },
  {
   "cell_type": "code",
   "execution_count": 14,
   "metadata": {},
   "outputs": [
    {
     "name": "stdout",
     "output_type": "stream",
     "text": [
      "34/34 [==============================] - 0s 6ms/step - loss: 0.2918 - accuracy: 0.8943\n",
      "Testing accuracy(unseen data): 89.4301%\n"
     ]
    }
   ],
   "source": [
    "score = model.evaluate(X_test, yy_test, verbose=1) \n",
    "accuracy = 100*score[1]\n",
    "print(\"Testing accuracy(unseen data): %.4f%%\" % accuracy)"
   ]
  },
  {
   "cell_type": "code",
   "execution_count": 15,
   "metadata": {},
   "outputs": [],
   "source": [
    "model.save('model.h5')"
   ]
  }
 ],
 "metadata": {
  "kernelspec": {
   "display_name": "python3.8",
   "language": "python",
   "name": "python3.8"
  },
  "language_info": {
   "codemirror_mode": {
    "name": "ipython",
    "version": 3
   },
   "file_extension": ".py",
   "mimetype": "text/x-python",
   "name": "python",
   "nbconvert_exporter": "python",
   "pygments_lexer": "ipython3",
   "version": "3.8.3"
  }
 },
 "nbformat": 4,
 "nbformat_minor": 4
}
